{
 "cells": [
  {
   "cell_type": "code",
   "execution_count": null,
   "id": "539a94f4",
   "metadata": {},
   "outputs": [],
   "source": [
    "define the set {'a','b','c',} then s={'a','b','c'} is right\n"
   ]
  },
  {
   "cell_type": "code",
   "execution_count": 1,
   "id": "264d25ca",
   "metadata": {},
   "outputs": [],
   "source": [
    "s = {'a','b','c'}"
   ]
  },
  {
   "cell_type": "code",
   "execution_count": 2,
   "id": "797fb39a",
   "metadata": {},
   "outputs": [
    {
     "ename": "TypeError",
     "evalue": "'set' object is not subscriptable",
     "output_type": "error",
     "traceback": [
      "\u001b[1;31m---------------------------------------------------------------------------\u001b[0m",
      "\u001b[1;31mTypeError\u001b[0m                                 Traceback (most recent call last)",
      "\u001b[1;32mC:\\Users\\KUNALC~1\\AppData\\Local\\Temp/ipykernel_25340/243613605.py\u001b[0m in \u001b[0;36m<module>\u001b[1;34m\u001b[0m\n\u001b[1;32m----> 1\u001b[1;33m \u001b[0ms\u001b[0m\u001b[1;33m[\u001b[0m\u001b[1;36m0\u001b[0m\u001b[1;33m]\u001b[0m\u001b[1;33m\u001b[0m\u001b[1;33m\u001b[0m\u001b[0m\n\u001b[0m",
      "\u001b[1;31mTypeError\u001b[0m: 'set' object is not subscriptable"
     ]
    }
   ],
   "source": [
    "s[0]"
   ]
  },
  {
   "cell_type": "code",
   "execution_count": 3,
   "id": "78525d8d",
   "metadata": {},
   "outputs": [],
   "source": [
    "l = [1,5,8]"
   ]
  },
  {
   "cell_type": "code",
   "execution_count": 4,
   "id": "5b96bab8",
   "metadata": {},
   "outputs": [
    {
     "data": {
      "text/plain": [
       "8"
      ]
     },
     "execution_count": 4,
     "metadata": {},
     "output_type": "execute_result"
    }
   ],
   "source": [
    "l[2]"
   ]
  },
  {
   "cell_type": "code",
   "execution_count": 5,
   "id": "183137e6",
   "metadata": {},
   "outputs": [
    {
     "name": "stdout",
     "output_type": "stream",
     "text": [
      "{'a', 'c', 'b'}\n"
     ]
    }
   ],
   "source": [
    "print(s)"
   ]
  },
  {
   "cell_type": "code",
   "execution_count": 6,
   "id": "d00b6bfa",
   "metadata": {},
   "outputs": [],
   "source": [
    "s = set(['a','b','c'])"
   ]
  },
  {
   "cell_type": "code",
   "execution_count": 7,
   "id": "4febe62a",
   "metadata": {},
   "outputs": [
    {
     "data": {
      "text/plain": [
       "{'a', 'b', 'c'}"
      ]
     },
     "execution_count": 7,
     "metadata": {},
     "output_type": "execute_result"
    }
   ],
   "source": [
    "s"
   ]
  },
  {
   "cell_type": "code",
   "execution_count": 8,
   "id": "39af9c71",
   "metadata": {},
   "outputs": [],
   "source": [
    "s = {'a','b','c'}"
   ]
  },
  {
   "cell_type": "code",
   "execution_count": 9,
   "id": "1eedbc2c",
   "metadata": {},
   "outputs": [
    {
     "data": {
      "text/plain": [
       "{'a', 'b', 'c'}"
      ]
     },
     "execution_count": 9,
     "metadata": {},
     "output_type": "execute_result"
    }
   ],
   "source": [
    "s"
   ]
  },
  {
   "cell_type": "code",
   "execution_count": 10,
   "id": "fc5bd330",
   "metadata": {},
   "outputs": [],
   "source": [
    "s = {('a','b','c')}"
   ]
  },
  {
   "cell_type": "code",
   "execution_count": 11,
   "id": "61b7f38f",
   "metadata": {},
   "outputs": [
    {
     "data": {
      "text/plain": [
       "set"
      ]
     },
     "execution_count": 11,
     "metadata": {},
     "output_type": "execute_result"
    }
   ],
   "source": [
    "type(s)"
   ]
  },
  {
   "cell_type": "code",
   "execution_count": 12,
   "id": "b343f702",
   "metadata": {},
   "outputs": [
    {
     "data": {
      "text/plain": [
       "{('a', 'b', 'c')}"
      ]
     },
     "execution_count": 12,
     "metadata": {},
     "output_type": "execute_result"
    }
   ],
   "source": [
    "s"
   ]
  },
  {
   "cell_type": "code",
   "execution_count": null,
   "id": "00f6c9dc",
   "metadata": {},
   "outputs": [],
   "source": [
    "Q)"
   ]
  },
  {
   "cell_type": "code",
   "execution_count": 13,
   "id": "037067cc",
   "metadata": {},
   "outputs": [],
   "source": [
    "country_counter = {}\n",
    "def addone(country):\n",
    "    if country in country_counter:\n",
    "        country_counter[country] += 1\n",
    "    else:\n",
    "        country_counter[country] = 1\n",
    "addone('China')\n",
    "addone('japan')\n",
    "addone('china')"
   ]
  },
  {
   "cell_type": "code",
   "execution_count": 14,
   "id": "535b0304",
   "metadata": {},
   "outputs": [
    {
     "data": {
      "text/plain": [
       "{'China': 1, 'japan': 1, 'china': 1}"
      ]
     },
     "execution_count": 14,
     "metadata": {},
     "output_type": "execute_result"
    }
   ],
   "source": [
    "country_counter"
   ]
  },
  {
   "cell_type": "code",
   "execution_count": 15,
   "id": "82ef9214",
   "metadata": {},
   "outputs": [
    {
     "data": {
      "text/plain": [
       "3"
      ]
     },
     "execution_count": 15,
     "metadata": {},
     "output_type": "execute_result"
    }
   ],
   "source": [
    "len(country_counter)"
   ]
  },
  {
   "cell_type": "code",
   "execution_count": null,
   "id": "e51d8af8",
   "metadata": {},
   "outputs": [],
   "source": [
    "Q7 - cleared\n",
    "Q9 -cleared\n",
    "Q1 -cleared"
   ]
  },
  {
   "cell_type": "code",
   "execution_count": 18,
   "id": "55dc2d87",
   "metadata": {},
   "outputs": [
    {
     "name": "stdout",
     "output_type": "stream",
     "text": [
      "{'a': 97, 'b': 98}\n"
     ]
    }
   ],
   "source": [
    "alpha_dict ={}\n",
    "for i in range(ord('a'),ord('b')+1):\n",
    "    alpha_dict[chr(i)] = i\n",
    "print(alpha_dict)"
   ]
  },
  {
   "cell_type": "code",
   "execution_count": 16,
   "id": "02e6fcc4",
   "metadata": {},
   "outputs": [
    {
     "data": {
      "text/plain": [
       "97"
      ]
     },
     "execution_count": 16,
     "metadata": {},
     "output_type": "execute_result"
    }
   ],
   "source": [
    "ord('a')"
   ]
  },
  {
   "cell_type": "code",
   "execution_count": 17,
   "id": "99d4059e",
   "metadata": {},
   "outputs": [
    {
     "data": {
      "text/plain": [
       "98"
      ]
     },
     "execution_count": 17,
     "metadata": {},
     "output_type": "execute_result"
    }
   ],
   "source": [
    "ord('b')"
   ]
  },
  {
   "cell_type": "code",
   "execution_count": 19,
   "id": "d62a2233",
   "metadata": {},
   "outputs": [
    {
     "data": {
      "text/plain": [
       "'b'"
      ]
     },
     "execution_count": 19,
     "metadata": {},
     "output_type": "execute_result"
    }
   ],
   "source": [
    "chr(98)"
   ]
  },
  {
   "cell_type": "code",
   "execution_count": 22,
   "id": "16a9a4ea",
   "metadata": {},
   "outputs": [],
   "source": [
    "l = alpha_dict.items()"
   ]
  },
  {
   "cell_type": "code",
   "execution_count": 27,
   "id": "ac97166b",
   "metadata": {},
   "outputs": [
    {
     "name": "stdout",
     "output_type": "stream",
     "text": [
      "Key a -- Value 97\n",
      "Key b -- Value 98\n"
     ]
    }
   ],
   "source": [
    "for i in l:\n",
    "    print(\"Key \"+str(i[0])+\" -- \"+\"Value \"+str(i[1]))"
   ]
  },
  {
   "cell_type": "code",
   "execution_count": null,
   "id": "9a9ab8b6",
   "metadata": {},
   "outputs": [],
   "source": [
    "iterables:\n",
    "    set\n",
    "    list\n",
    "    dict\n",
    "    tuple\n",
    "    string"
   ]
  },
  {
   "cell_type": "code",
   "execution_count": 28,
   "id": "3da2f16d",
   "metadata": {},
   "outputs": [],
   "source": [
    "d = {} \n",
    "d['foo'] = 100 \n",
    "d['bar'] = 200 \n",
    "d['baz'] = 300"
   ]
  },
  {
   "cell_type": "code",
   "execution_count": 29,
   "id": "6f7183aa",
   "metadata": {},
   "outputs": [
    {
     "data": {
      "text/plain": [
       "{'foo': 100, 'bar': 200, 'baz': 300}"
      ]
     },
     "execution_count": 29,
     "metadata": {},
     "output_type": "execute_result"
    }
   ],
   "source": [
    "d"
   ]
  },
  {
   "cell_type": "code",
   "execution_count": 34,
   "id": "2ae9fcb5",
   "metadata": {},
   "outputs": [],
   "source": [
    "del d"
   ]
  },
  {
   "cell_type": "code",
   "execution_count": 32,
   "id": "5534366d",
   "metadata": {},
   "outputs": [],
   "source": [
    "d = dict(foo=100, bar=200, baz=300)"
   ]
  },
  {
   "cell_type": "code",
   "execution_count": 33,
   "id": "23062e0f",
   "metadata": {},
   "outputs": [
    {
     "data": {
      "text/plain": [
       "{'foo': 100, 'bar': 200, 'baz': 300}"
      ]
     },
     "execution_count": 33,
     "metadata": {},
     "output_type": "execute_result"
    }
   ],
   "source": [
    "d"
   ]
  },
  {
   "cell_type": "code",
   "execution_count": 35,
   "id": "1f24efc2",
   "metadata": {},
   "outputs": [],
   "source": [
    "d = dict([('foo', 100), ('bar', 200), ('baz', 300) ])"
   ]
  },
  {
   "cell_type": "code",
   "execution_count": 36,
   "id": "46a93550",
   "metadata": {},
   "outputs": [
    {
     "data": {
      "text/plain": [
       "{'foo': 100, 'bar': 200, 'baz': 300}"
      ]
     },
     "execution_count": 36,
     "metadata": {},
     "output_type": "execute_result"
    }
   ],
   "source": [
    "d"
   ]
  },
  {
   "cell_type": "code",
   "execution_count": 37,
   "id": "f8201ee4",
   "metadata": {},
   "outputs": [],
   "source": [
    "del d"
   ]
  },
  {
   "cell_type": "code",
   "execution_count": 42,
   "id": "cc04f477",
   "metadata": {},
   "outputs": [],
   "source": [
    "d = {('foo', 100) ('bar', 200), ('baz', 300) }"
   ]
  },
  {
   "cell_type": "code",
   "execution_count": null,
   "id": "41973d60",
   "metadata": {},
   "outputs": [],
   "source": []
  },
  {
   "cell_type": "code",
   "execution_count": 45,
   "id": "cee5ec7d",
   "metadata": {},
   "outputs": [],
   "source": [
    "d = dict(foo=1,bar=2)"
   ]
  },
  {
   "cell_type": "code",
   "execution_count": 46,
   "id": "1b91b441",
   "metadata": {},
   "outputs": [
    {
     "data": {
      "text/plain": [
       "{'foo': 1, 'bar': 2}"
      ]
     },
     "execution_count": 46,
     "metadata": {},
     "output_type": "execute_result"
    }
   ],
   "source": [
    "d"
   ]
  },
  {
   "cell_type": "code",
   "execution_count": 47,
   "id": "2a6b349e",
   "metadata": {},
   "outputs": [
    {
     "ename": "TypeError",
     "evalue": "unhashable type: 'list'",
     "output_type": "error",
     "traceback": [
      "\u001b[1;31m---------------------------------------------------------------------------\u001b[0m",
      "\u001b[1;31mTypeError\u001b[0m                                 Traceback (most recent call last)",
      "\u001b[1;32mC:\\Users\\KUNALC~1\\AppData\\Local\\Temp/ipykernel_25340/2399212462.py\u001b[0m in \u001b[0;36m<module>\u001b[1;34m\u001b[0m\n\u001b[1;32m----> 1\u001b[1;33m \u001b[0md\u001b[0m \u001b[1;33m=\u001b[0m \u001b[1;33m{\u001b[0m\u001b[1;33m[\u001b[0m\u001b[1;34m'foo'\u001b[0m\u001b[1;33m,\u001b[0m\u001b[1;34m'bar'\u001b[0m\u001b[1;33m]\u001b[0m\u001b[1;33m:\u001b[0m\u001b[1;34m'Saikiran'\u001b[0m\u001b[1;33m}\u001b[0m\u001b[1;33m\u001b[0m\u001b[1;33m\u001b[0m\u001b[0m\n\u001b[0m",
      "\u001b[1;31mTypeError\u001b[0m: unhashable type: 'list'"
     ]
    }
   ],
   "source": [
    "d = {['foo','bar']:'Saikiran'}"
   ]
  },
  {
   "cell_type": "code",
   "execution_count": null,
   "id": "6ae19ff7",
   "metadata": {},
   "outputs": [],
   "source": [
    "why?\n",
    "we can't have list as key\n",
    "Key must be immutable "
   ]
  },
  {
   "cell_type": "code",
   "execution_count": 48,
   "id": "4f2d6798",
   "metadata": {},
   "outputs": [],
   "source": [
    "d = {('Saurabh','adit'):'Data Scientist'}"
   ]
  },
  {
   "cell_type": "code",
   "execution_count": 49,
   "id": "ae5b9175",
   "metadata": {},
   "outputs": [
    {
     "data": {
      "text/plain": [
       "{('Saurabh', 'adit'): 'Data Scientist'}"
      ]
     },
     "execution_count": 49,
     "metadata": {},
     "output_type": "execute_result"
    }
   ],
   "source": [
    "d"
   ]
  },
  {
   "cell_type": "code",
   "execution_count": 50,
   "id": "c1e412c0",
   "metadata": {},
   "outputs": [
    {
     "data": {
      "text/plain": [
       "dict"
      ]
     },
     "execution_count": 50,
     "metadata": {},
     "output_type": "execute_result"
    }
   ],
   "source": [
    "type(d)"
   ]
  },
  {
   "cell_type": "code",
   "execution_count": null,
   "id": "34da5638",
   "metadata": {},
   "outputs": [],
   "source": [
    "tuple is immutable\n",
    "and it can become a key"
   ]
  },
  {
   "cell_type": "code",
   "execution_count": 51,
   "id": "c62c5862",
   "metadata": {},
   "outputs": [],
   "source": [
    "s = {'a','b','c','d'}"
   ]
  },
  {
   "cell_type": "code",
   "execution_count": 52,
   "id": "5c520f16",
   "metadata": {},
   "outputs": [
    {
     "data": {
      "text/plain": [
       "set"
      ]
     },
     "execution_count": 52,
     "metadata": {},
     "output_type": "execute_result"
    }
   ],
   "source": [
    "type(s)"
   ]
  },
  {
   "cell_type": "code",
   "execution_count": 53,
   "id": "9dcf0ef0",
   "metadata": {},
   "outputs": [],
   "source": [
    "s = set(list(s)[1:])"
   ]
  },
  {
   "cell_type": "code",
   "execution_count": 54,
   "id": "6d474276",
   "metadata": {},
   "outputs": [
    {
     "data": {
      "text/plain": [
       "{'b', 'c', 'd'}"
      ]
     },
     "execution_count": 54,
     "metadata": {},
     "output_type": "execute_result"
    }
   ],
   "source": [
    "s"
   ]
  },
  {
   "cell_type": "code",
   "execution_count": null,
   "id": "a7197408",
   "metadata": {},
   "outputs": [],
   "source": [
    "key and value pair"
   ]
  },
  {
   "cell_type": "code",
   "execution_count": 55,
   "id": "42c8acc5",
   "metadata": {},
   "outputs": [],
   "source": [
    "l = (1,2,5)"
   ]
  },
  {
   "cell_type": "code",
   "execution_count": 58,
   "id": "e95a9ff5",
   "metadata": {},
   "outputs": [],
   "source": [
    "l = l[1:]"
   ]
  },
  {
   "cell_type": "code",
   "execution_count": 59,
   "id": "c94f2f3e",
   "metadata": {},
   "outputs": [
    {
     "data": {
      "text/plain": [
       "(2, 5)"
      ]
     },
     "execution_count": 59,
     "metadata": {},
     "output_type": "execute_result"
    }
   ],
   "source": [
    "l"
   ]
  },
  {
   "cell_type": "code",
   "execution_count": null,
   "id": "61b59bb8",
   "metadata": {},
   "outputs": [],
   "source": []
  }
 ],
 "metadata": {
  "kernelspec": {
   "display_name": "Python 3 (ipykernel)",
   "language": "python",
   "name": "python3"
  },
  "language_info": {
   "codemirror_mode": {
    "name": "ipython",
    "version": 3
   },
   "file_extension": ".py",
   "mimetype": "text/x-python",
   "name": "python",
   "nbconvert_exporter": "python",
   "pygments_lexer": "ipython3",
   "version": "3.9.7"
  }
 },
 "nbformat": 4,
 "nbformat_minor": 5
}
