{
 "cells": [
  {
   "cell_type": "markdown",
   "id": "d6f16d15",
   "metadata": {},
   "source": [
    "# File Handling"
   ]
  },
  {
   "cell_type": "code",
   "execution_count": null,
   "id": "a504b098",
   "metadata": {},
   "outputs": [],
   "source": [
    "File is a named location on the system stoarge which records data for \n",
    "later access"
   ]
  },
  {
   "cell_type": "code",
   "execution_count": null,
   "id": "40641924",
   "metadata": {},
   "outputs": [],
   "source": [
    "open\n",
    "read/write\n",
    "close"
   ]
  },
  {
   "cell_type": "markdown",
   "id": "51ca6ee6",
   "metadata": {},
   "source": [
    "## opening the file"
   ]
  },
  {
   "cell_type": "code",
   "execution_count": null,
   "id": "f70b271b",
   "metadata": {},
   "outputs": [],
   "source": [
    "open() function opens the file for us"
   ]
  },
  {
   "cell_type": "code",
   "execution_count": 4,
   "id": "d00ee2f7",
   "metadata": {},
   "outputs": [
    {
     "ename": "FileNotFoundError",
     "evalue": "[Errno 2] No such file or directory: 'Sample.txt'",
     "output_type": "error",
     "traceback": [
      "\u001b[1;31m---------------------------------------------------------------------------\u001b[0m",
      "\u001b[1;31mFileNotFoundError\u001b[0m                         Traceback (most recent call last)",
      "\u001b[1;32mC:\\Users\\KUNALC~1\\AppData\\Local\\Temp/ipykernel_13208/3857535477.py\u001b[0m in \u001b[0;36m<module>\u001b[1;34m\u001b[0m\n\u001b[1;32m----> 1\u001b[1;33m \u001b[0mfp\u001b[0m \u001b[1;33m=\u001b[0m \u001b[0mopen\u001b[0m\u001b[1;33m(\u001b[0m\u001b[1;34m\"Sample.txt\"\u001b[0m\u001b[1;33m)\u001b[0m\u001b[1;33m\u001b[0m\u001b[1;33m\u001b[0m\u001b[0m\n\u001b[0m",
      "\u001b[1;31mFileNotFoundError\u001b[0m: [Errno 2] No such file or directory: 'Sample.txt'"
     ]
    }
   ],
   "source": [
    "fp = open(\"Sample.txt\")"
   ]
  },
  {
   "cell_type": "code",
   "execution_count": null,
   "id": "b401a669",
   "metadata": {},
   "outputs": [],
   "source": []
  }
 ],
 "metadata": {
  "kernelspec": {
   "display_name": "Python 3 (ipykernel)",
   "language": "python",
   "name": "python3"
  },
  "language_info": {
   "codemirror_mode": {
    "name": "ipython",
    "version": 3
   },
   "file_extension": ".py",
   "mimetype": "text/x-python",
   "name": "python",
   "nbconvert_exporter": "python",
   "pygments_lexer": "ipython3",
   "version": "3.9.7"
  }
 },
 "nbformat": 4,
 "nbformat_minor": 5
}
