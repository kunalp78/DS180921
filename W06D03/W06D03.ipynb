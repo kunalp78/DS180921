{
 "cells": [
  {
   "cell_type": "markdown",
   "id": "caf0cf25",
   "metadata": {},
   "source": [
    "# Regular Expression"
   ]
  },
  {
   "cell_type": "markdown",
   "id": "ded962f7",
   "metadata": {},
   "source": [
    ". (dot) -> it matches everythin except new line\n",
    "[] -> A set of characters\n",
    "[A-Z] -> set of all capital letters\n",
    "[a-z] -> set of all small letters\n",
    "[0-9] -> set of all single digit numbers\n",
    "[A-Za-z] -> set of both lower and upper alphabets\n",
    "[0-9A-Za-z] -> set of alphanumeric characters\n",
    "[@#Mt!] -> either @ or # or M or t or !\n",
    "#Quantifiers\n",
    " \n",
    "+ -> atleast 1 or more occurences of whatever is in the left hand side of it\n",
    "\n",
    "* -> 0 or more occurences of whatevr is in the left hand side of it\n",
    " \n",
    "? -> optional (once or not at all)\n",
    "\n",
    "{} -> counting stufff\n",
    " \n",
    "#anchors we will be seeing them today\n",
    " ^ -> start of the pattern\n",
    " $ -> end of pattern "
   ]
  },
  {
   "cell_type": "markdown",
   "id": "b9f9da90",
   "metadata": {},
   "source": [
    "# ^"
   ]
  },
  {
   "cell_type": "code",
   "execution_count": 1,
   "id": "66865a45",
   "metadata": {},
   "outputs": [],
   "source": [
    "import re"
   ]
  },
  {
   "cell_type": "code",
   "execution_count": 2,
   "id": "7444fcfc",
   "metadata": {},
   "outputs": [
    {
     "data": {
      "text/plain": [
       "<re.Match object; span=(0, 2), match='ab'>"
      ]
     },
     "execution_count": 2,
     "metadata": {},
     "output_type": "execute_result"
    }
   ],
   "source": [
    "regx = '^ab'\n",
    "re.search(regx,'abrakadabra')"
   ]
  },
  {
   "cell_type": "code",
   "execution_count": 3,
   "id": "e4a6ed4d",
   "metadata": {},
   "outputs": [],
   "source": [
    "regx = '^ab'\n",
    "re.search(regx,'habrakadabra')"
   ]
  },
  {
   "cell_type": "code",
   "execution_count": 9,
   "id": "836f7afd",
   "metadata": {},
   "outputs": [
    {
     "data": {
      "text/plain": [
       "<re.Match object; span=(1, 3), match='ab'>"
      ]
     },
     "execution_count": 9,
     "metadata": {},
     "output_type": "execute_result"
    }
   ],
   "source": [
    "regx = 'ab'\n",
    "re.search(regx,'habrakadabra')"
   ]
  },
  {
   "cell_type": "markdown",
   "id": "d0123e9a",
   "metadata": {},
   "source": [
    "# $"
   ]
  },
  {
   "cell_type": "code",
   "execution_count": 13,
   "id": "c029abfb",
   "metadata": {},
   "outputs": [
    {
     "data": {
      "text/plain": [
       "<re.Match object; span=(10, 12), match='ab'>"
      ]
     },
     "execution_count": 13,
     "metadata": {},
     "output_type": "execute_result"
    }
   ],
   "source": [
    "regex = 'ab$'\n",
    "re.search(regex,'sdjfsdfienab')"
   ]
  },
  {
   "cell_type": "code",
   "execution_count": 14,
   "id": "0d0659ea",
   "metadata": {},
   "outputs": [],
   "source": [
    "regex = 'ab$'\n",
    "re.search(regex,'sdfghdfgfd')"
   ]
  },
  {
   "cell_type": "markdown",
   "id": "59f5815c",
   "metadata": {},
   "source": [
    "### Q1) Write a regx to match a 3 digit number followed by abc"
   ]
  },
  {
   "cell_type": "code",
   "execution_count": 15,
   "id": "5f758086",
   "metadata": {},
   "outputs": [
    {
     "data": {
      "text/plain": [
       "'547abc'"
      ]
     },
     "execution_count": 15,
     "metadata": {},
     "output_type": "execute_result"
    }
   ],
   "source": [
    "'547abc'"
   ]
  },
  {
   "cell_type": "code",
   "execution_count": 19,
   "id": "1fce312d",
   "metadata": {},
   "outputs": [
    {
     "data": {
      "text/plain": [
       "<re.Match object; span=(9, 15), match='585abc'>"
      ]
     },
     "execution_count": 19,
     "metadata": {},
     "output_type": "execute_result"
    }
   ],
   "source": [
    "regx = '[0-9][0-9][0-9]abc'\n",
    "re.search(regx,'9589fdfvj585abcdfn')"
   ]
  },
  {
   "cell_type": "code",
   "execution_count": 20,
   "id": "7044af95",
   "metadata": {},
   "outputs": [
    {
     "data": {
      "text/plain": [
       "<re.Match object; span=(9, 15), match='585abc'>"
      ]
     },
     "execution_count": 20,
     "metadata": {},
     "output_type": "execute_result"
    }
   ],
   "source": [
    "regx = '[0-9]{3}abc'\n",
    "re.search(regx,'9589fdfvj585abcdfn')"
   ]
  },
  {
   "cell_type": "code",
   "execution_count": 21,
   "id": "df82373f",
   "metadata": {},
   "outputs": [],
   "source": [
    "regx = '[0-9]{3}abc'\n",
    "re.search(regx,'514cfdbzvlkyuj58f4hf6bdf15v1m4nm')"
   ]
  },
  {
   "cell_type": "markdown",
   "id": "f79081c4",
   "metadata": {},
   "source": [
    "###  Write a regx to match a 3 digit number followed by 3 alphabets"
   ]
  },
  {
   "cell_type": "code",
   "execution_count": 22,
   "id": "99a64cbe",
   "metadata": {},
   "outputs": [
    {
     "data": {
      "text/plain": [
       "'356wfe'"
      ]
     },
     "execution_count": 22,
     "metadata": {},
     "output_type": "execute_result"
    }
   ],
   "source": [
    "'356wfe'"
   ]
  },
  {
   "cell_type": "code",
   "execution_count": 24,
   "id": "41657d48",
   "metadata": {},
   "outputs": [
    {
     "data": {
      "text/plain": [
       "<re.Match object; span=(1, 7), match='746dSf'>"
      ]
     },
     "execution_count": 24,
     "metadata": {},
     "output_type": "execute_result"
    }
   ],
   "source": [
    "regx = '[0-9]{3}[a-zA-Z]{3}'\n",
    "re.search(regx,'8746dSfsfs')"
   ]
  },
  {
   "cell_type": "markdown",
   "id": "14f42a76",
   "metadata": {},
   "source": [
    "### Write a regx that should match a pattern having atmost 3 occurences of small alphabets (atmost?? 0-till limit)"
   ]
  },
  {
   "cell_type": "code",
   "execution_count": 28,
   "id": "fcf07153",
   "metadata": {},
   "outputs": [
    {
     "name": "stdout",
     "output_type": "stream",
     "text": [
      "['a', '', '', '', '', 'as', '', '', '', '', 'fg', '', '', '', 'fgh', '', '', '', '', '']\n"
     ]
    }
   ],
   "source": [
    "''\n",
    "'a'\n",
    "'fg'\n",
    "'ght'\n",
    "regex = '[a-z]{0,3}'\n",
    "print(re.findall(regex,'aA548as8426fg851fgh4584'))"
   ]
  },
  {
   "cell_type": "markdown",
   "id": "77b8704a",
   "metadata": {},
   "source": [
    "### Write a regx that should match a pattern having atmost 3 occurences of small alphabets and atleast 1 occurence of lower alphabet. (atmost?? 1-till limit)"
   ]
  },
  {
   "cell_type": "code",
   "execution_count": null,
   "id": "95b07b19",
   "metadata": {},
   "outputs": [],
   "source": [
    "'' X\n",
    "'a' \\/\n",
    "'as' \\/\n",
    "'ert' \\/"
   ]
  },
  {
   "cell_type": "code",
   "execution_count": 29,
   "id": "0465141e",
   "metadata": {},
   "outputs": [
    {
     "data": {
      "text/plain": [
       "['a', 'as', 'fg', 'fgh']"
      ]
     },
     "execution_count": 29,
     "metadata": {},
     "output_type": "execute_result"
    }
   ],
   "source": [
    "regx = '[a-z]{1,3}'\n",
    "re.findall(regx,'aA548as8426fg851fgh4584')"
   ]
  },
  {
   "cell_type": "markdown",
   "id": "36341f1d",
   "metadata": {},
   "source": [
    "### Find all the continues substrings of two characters each containing letters from a to l in the string\n",
    "### abz514cfdbzvlkyuj58f4hf6bdf15v1m4nm"
   ]
  },
  {
   "cell_type": "code",
   "execution_count": 30,
   "id": "851da01b",
   "metadata": {},
   "outputs": [
    {
     "data": {
      "text/plain": [
       "['ab', 'cf', 'db', 'lk', 'hf', 'bd']"
      ]
     },
     "execution_count": 30,
     "metadata": {},
     "output_type": "execute_result"
    }
   ],
   "source": [
    "regx = '[a-l]{2}'\n",
    "re.findall(regx, 'abz514cfdbzvlkyuj58f4hf6bdf15v1m4nm')"
   ]
  },
  {
   "cell_type": "code",
   "execution_count": 32,
   "id": "8a3b1f94",
   "metadata": {},
   "outputs": [
    {
     "data": {
      "text/plain": [
       "<re.Match object; span=(2, 3), match='l'>"
      ]
     },
     "execution_count": 32,
     "metadata": {},
     "output_type": "execute_result"
    }
   ],
   "source": [
    "regx = 'l|h'\n",
    "re.search(regx, 'mallhut')"
   ]
  },
  {
   "cell_type": "code",
   "execution_count": 33,
   "id": "6d5ed6df",
   "metadata": {},
   "outputs": [
    {
     "data": {
      "text/plain": [
       "<re.Match object; span=(0, 1), match='h'>"
      ]
     },
     "execution_count": 33,
     "metadata": {},
     "output_type": "execute_result"
    }
   ],
   "source": [
    "regx = 'l|h'\n",
    "re.search(regx, 'hallhut')"
   ]
  },
  {
   "cell_type": "code",
   "execution_count": 36,
   "id": "c10b9c3f",
   "metadata": {},
   "outputs": [
    {
     "data": {
      "text/plain": [
       "<re.Match object; span=(7, 8), match='2'>"
      ]
     },
     "execution_count": 36,
     "metadata": {},
     "output_type": "execute_result"
    }
   ],
   "source": [
    "regx = '[0-9]|[A-Z]'\n",
    "re.search(regx, 'mallhut287ADE')"
   ]
  },
  {
   "cell_type": "code",
   "execution_count": 37,
   "id": "170a7681",
   "metadata": {},
   "outputs": [
    {
     "data": {
      "text/plain": [
       "<re.Match object; span=(0, 1), match='M'>"
      ]
     },
     "execution_count": 37,
     "metadata": {},
     "output_type": "execute_result"
    }
   ],
   "source": [
    "regx = '[0-9]|[A-Z]'\n",
    "re.search(regx, 'Mallhut287ADE')"
   ]
  },
  {
   "cell_type": "code",
   "execution_count": 38,
   "id": "bdd4bd38",
   "metadata": {},
   "outputs": [],
   "source": [
    "regx = '[0-9]|[A-Z]'\n",
    "match = re.search(regx, 'mallhut287ADE')"
   ]
  },
  {
   "cell_type": "code",
   "execution_count": 40,
   "id": "2e22e99f",
   "metadata": {},
   "outputs": [
    {
     "data": {
      "text/plain": [
       "(7, 8)"
      ]
     },
     "execution_count": 40,
     "metadata": {},
     "output_type": "execute_result"
    }
   ],
   "source": [
    "match.span()"
   ]
  },
  {
   "cell_type": "code",
   "execution_count": 45,
   "id": "a099876a",
   "metadata": {},
   "outputs": [
    {
     "data": {
      "text/plain": [
       "7"
      ]
     },
     "execution_count": 45,
     "metadata": {},
     "output_type": "execute_result"
    }
   ],
   "source": [
    "match.start()"
   ]
  },
  {
   "cell_type": "code",
   "execution_count": 46,
   "id": "8d89b45a",
   "metadata": {},
   "outputs": [
    {
     "data": {
      "text/plain": [
       "8"
      ]
     },
     "execution_count": 46,
     "metadata": {},
     "output_type": "execute_result"
    }
   ],
   "source": [
    "match.end()"
   ]
  },
  {
   "cell_type": "code",
   "execution_count": 47,
   "id": "ba04bb7b",
   "metadata": {},
   "outputs": [
    {
     "data": {
      "text/plain": [
       "'2'"
      ]
     },
     "execution_count": 47,
     "metadata": {},
     "output_type": "execute_result"
    }
   ],
   "source": [
    "match.group() #it gave the first encountered exact match"
   ]
  },
  {
   "cell_type": "code",
   "execution_count": 48,
   "id": "9ac8ec35",
   "metadata": {},
   "outputs": [
    {
     "data": {
      "text/plain": [
       "'[0-9]|[A-Z]'"
      ]
     },
     "execution_count": 48,
     "metadata": {},
     "output_type": "execute_result"
    }
   ],
   "source": [
    "regx"
   ]
  },
  {
   "cell_type": "code",
   "execution_count": 49,
   "id": "72f7fa40",
   "metadata": {},
   "outputs": [
    {
     "data": {
      "text/plain": [
       "'mallhut287ADE'"
      ]
     },
     "execution_count": 49,
     "metadata": {},
     "output_type": "execute_result"
    }
   ],
   "source": [
    "match.string"
   ]
  },
  {
   "cell_type": "markdown",
   "id": "513bd1fd",
   "metadata": {},
   "source": [
    "# Anchors"
   ]
  },
  {
   "cell_type": "code",
   "execution_count": null,
   "id": "4bcf2cbf",
   "metadata": {},
   "outputs": [],
   "source": [
    "^ -> start of the pattern\n",
    "$ -> end of the pattern"
   ]
  },
  {
   "cell_type": "code",
   "execution_count": 52,
   "id": "4fd9f0e1",
   "metadata": {},
   "outputs": [],
   "source": [
    "list_of_amazing_string = ['Shaktimaan58','Sonpari45','Shinchan78','45Shazam']"
   ]
  },
  {
   "cell_type": "code",
   "execution_count": 53,
   "id": "da1c6b6d",
   "metadata": {},
   "outputs": [],
   "source": [
    "regx = '^S.*[0-9]$'"
   ]
  },
  {
   "cell_type": "code",
   "execution_count": 54,
   "id": "527de3d9",
   "metadata": {},
   "outputs": [
    {
     "name": "stdout",
     "output_type": "stream",
     "text": [
      "<re.Match object; span=(0, 12), match='Shaktimaan58'>\n",
      "<re.Match object; span=(0, 9), match='Sonpari45'>\n",
      "<re.Match object; span=(0, 10), match='Shinchan78'>\n",
      "None\n"
     ]
    }
   ],
   "source": [
    "for i in list_of_amazing_string:\n",
    "    print(re.search(regx,i))"
   ]
  },
  {
   "cell_type": "code",
   "execution_count": null,
   "id": "b984e20d",
   "metadata": {},
   "outputs": [],
   "source": [
    "# write a regular expression to match \"start string be any digit but end digit shoud be 8\""
   ]
  },
  {
   "cell_type": "code",
   "execution_count": 57,
   "id": "4f09f2c1",
   "metadata": {},
   "outputs": [],
   "source": [
    "list_of_amazing_string = ['Shaktimaan58','Sonpari45','Shincha8n78','45Shazam','5vdfge8']"
   ]
  },
  {
   "cell_type": "code",
   "execution_count": 62,
   "id": "236bec3e",
   "metadata": {},
   "outputs": [],
   "source": [
    "regx = '^[0-9].*8$'"
   ]
  },
  {
   "cell_type": "code",
   "execution_count": 63,
   "id": "5c2132df",
   "metadata": {},
   "outputs": [
    {
     "name": "stdout",
     "output_type": "stream",
     "text": [
      "None\n",
      "None\n",
      "None\n",
      "None\n",
      "<re.Match object; span=(0, 7), match='5vdfge8'>\n"
     ]
    }
   ],
   "source": [
    "for i in list_of_amazing_string:\n",
    "    print(re.search(regx,i))"
   ]
  },
  {
   "cell_type": "markdown",
   "id": "cd07307e",
   "metadata": {},
   "source": [
    "# ?"
   ]
  },
  {
   "cell_type": "code",
   "execution_count": null,
   "id": "3b728142",
   "metadata": {},
   "outputs": [],
   "source": [
    "it finds match for either one occurence or none occurence of the charachter on its left hand side"
   ]
  },
  {
   "cell_type": "code",
   "execution_count": 73,
   "id": "7597e1d7",
   "metadata": {},
   "outputs": [
    {
     "data": {
      "text/plain": [
       "['20', '-10', '/2021', '/Wed']"
      ]
     },
     "execution_count": 73,
     "metadata": {},
     "output_type": "execute_result"
    }
   ],
   "source": [
    "reg = '[/-]?[0-9A-Za-z]+'\n",
    "re.findall(reg, '20-10/2021//Wed')"
   ]
  },
  {
   "cell_type": "code",
   "execution_count": null,
   "id": "94f71da6",
   "metadata": {},
   "outputs": [],
   "source": []
  }
 ],
 "metadata": {
  "kernelspec": {
   "display_name": "Python 3 (ipykernel)",
   "language": "python",
   "name": "python3"
  },
  "language_info": {
   "codemirror_mode": {
    "name": "ipython",
    "version": 3
   },
   "file_extension": ".py",
   "mimetype": "text/x-python",
   "name": "python",
   "nbconvert_exporter": "python",
   "pygments_lexer": "ipython3",
   "version": "3.9.7"
  }
 },
 "nbformat": 4,
 "nbformat_minor": 5
}
